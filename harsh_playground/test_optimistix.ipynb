{
 "cells": [
  {
   "cell_type": "code",
   "execution_count": 1,
   "id": "21248327",
   "metadata": {},
   "outputs": [],
   "source": [
    "import jax \n",
    "import jax.numpy as jnp\n",
    "\n",
    "import qontrol as ql \n",
    "import equinox as eqx\n",
    "import dynamiqs as dq\n",
    "import optimistix as optx\n",
    "\n",
    "from jax import Array\n",
    "from qontrol.cost import Cost\n",
    "from qontrol.model import Model\n",
    "from dynamiqs.method import Method as dq_Method\n",
    "from dynamiqs import Options as dq_Options"
   ]
  },
  {
   "cell_type": "markdown",
   "id": "53f1ab12",
   "metadata": {},
   "source": [
    "Simple optimization loop inspired by: https://docs.kidger.site/optimistix/examples/interactive/\n",
    "\n",
    "At some point, make it better using: https://github.com/patrick-kidger/optimistix/blob/main/optimistix/_iterate.py"
   ]
  },
  {
   "cell_type": "code",
   "execution_count": 7,
   "id": "b656166b",
   "metadata": {},
   "outputs": [],
   "source": [
    "def loss(\n",
    "    parameters: Array | dict,\n",
    "    costs:Cost,\n",
    "    model: Model,\n",
    "    method: dq_Method,\n",
    "    dq_options: dq_Options,\n",
    ") -> [float, Array]:\n",
    "\n",
    "    result, H = model(parameters, method, dq_options)\n",
    "    cost_values, terminate = zip(*costs(result, H, parameters), strict=True)\n",
    "    total_cost = jnp.log(jt_reduce(jnp.add, cost_values))\n",
    "    expects = result.expects if hasattr(result, 'expects') else None\n",
    "\n",
    "    return total_cost, (total_cost, cost_values, terminate, expects)\n",
    "\n",
    "_loss = lambda _params, _args : loss(params, _args[0], _args[1], method, dq_options)"
   ]
  },
  {
   "cell_type": "code",
   "execution_count": 8,
   "id": "58e67168",
   "metadata": {},
   "outputs": [],
   "source": [
    "def optimize(\n",
    "    parameters,\n",
    "    costs,\n",
    "    model,\n",
    "    optimizer, \n",
    "    method,\n",
    "    dq_options,\n",
    "    epochs=100,\n",
    "):\n",
    "    \n",
    "    args = (costs, model) \n",
    "    f_struct, aux_struct = jax.eval_shape(_loss, parameters, args)\n",
    "    state = optimizer.init(_loss, parameters, args, {}, f_struct, aux_struct, frozenset())\n",
    "    step = eqx.filter_jit(eqx.Partial(optimizer.step, fn=_loss, options={}, tags=frozenset()))\n",
    "\n",
    "    for epoch in range(epochs):\n",
    "        parameters, state, aux = step(parameters, state, args)\n",
    "        (total_cost, cost_values, terminate, expects) = aux\n",
    "\n",
    "        print(f\"Epoch {epoch+1}, Total Cost: {total_cost}, Individual Costs: {cost_values}\")\n",
    "        if any(terminate):\n",
    "            print(\"Termination condition met. Stopping optimization.\")\n",
    "            break"
   ]
  },
  {
   "cell_type": "code",
   "execution_count": null,
   "id": "fcda2813",
   "metadata": {},
   "outputs": [],
   "source": []
  }
 ],
 "metadata": {
  "kernelspec": {
   "display_name": "qontrol_dev",
   "language": "python",
   "name": "python3"
  },
  "language_info": {
   "codemirror_mode": {
    "name": "ipython",
    "version": 3
   },
   "file_extension": ".py",
   "mimetype": "text/x-python",
   "name": "python",
   "nbconvert_exporter": "python",
   "pygments_lexer": "ipython3",
   "version": "3.13.5"
  }
 },
 "nbformat": 4,
 "nbformat_minor": 5
}
