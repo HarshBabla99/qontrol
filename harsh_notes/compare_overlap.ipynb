{
 "cells": [
  {
   "cell_type": "code",
   "execution_count": 4,
   "id": "40e51bea",
   "metadata": {},
   "outputs": [],
   "source": [
    "import dynamiqs as dq\n",
    "import jax.numpy as jnp\n",
    "import matplotlib.pyplot as plt\n",
    "\n",
    "dq.set_precision('double')\n",
    "dq.set_progress_meter(False)"
   ]
  },
  {
   "cell_type": "code",
   "execution_count": 12,
   "id": "d2d11914",
   "metadata": {},
   "outputs": [],
   "source": [
    "psi0 = dq.stack([\n",
    "    dq.ground(),\n",
    "    dq.excited(),\n",
    "])\n",
    "\n",
    "\n",
    "H = dq.sigmaz()                   # Hamiltonian\n",
    "tsave = jnp.linspace(0, 0.5, 11)  # saving times\n",
    "res = dq.sesolve(H, psi0, tsave)  # run the simulation"
   ]
  },
  {
   "cell_type": "code",
   "execution_count": 15,
   "id": "8ba12b55",
   "metadata": {},
   "outputs": [
    {
     "name": "stdout",
     "output_type": "stream",
     "text": [
      "(2, 1, 1)\n",
      "[[[0.87758255-0.47942555j]]\n",
      "\n",
      " [[0.87758255+0.47942555j]]]\n",
      "(2,)\n",
      "[0.87758255-0.47942555j 0.87758255+0.47942555j]\n"
     ]
    }
   ],
   "source": [
    "overlaps = res.final_state.dag() @ psi0\n",
    "\n",
    "print(overlaps.shape)\n",
    "print(overlaps)\n",
    "\n",
    "overlaps = dq.braket(res.final_state, psi0)\n",
    "\n",
    "print(overlaps.shape)\n",
    "print(overlaps)"
   ]
  },
  {
   "cell_type": "code",
   "execution_count": 17,
   "id": "45d2fe3d",
   "metadata": {},
   "outputs": [],
   "source": [
    "psi0 = dq.stack([\n",
    "    dq.ground().todm(),\n",
    "    dq.excited().todm(),\n",
    "])\n",
    "\n",
    "\n",
    "H = dq.sigmaz()                   # Hamiltonian\n",
    "tsave = jnp.linspace(0, 0.5, 11)  # saving times\n",
    "res = dq.mesolve(H, [], psi0, tsave)  # run the simulation"
   ]
  },
  {
   "cell_type": "code",
   "execution_count": 20,
   "id": "7449bc86",
   "metadata": {},
   "outputs": [
    {
     "name": "stdout",
     "output_type": "stream",
     "text": [
      "(2,)\n",
      "[1.+0.j 1.+0.j]\n"
     ]
    },
    {
     "ename": "ValueError",
     "evalue": "Argument `x` must have shape (..., n, 1), but has shape x.shape=(2, 2, 2).",
     "output_type": "error",
     "traceback": [
      "\u001b[31m---------------------------------------------------------------------------\u001b[39m",
      "\u001b[31mValueError\u001b[39m                                Traceback (most recent call last)",
      "\u001b[36mCell\u001b[39m\u001b[36m \u001b[39m\u001b[32mIn[20]\u001b[39m\u001b[32m, line 6\u001b[39m\n\u001b[32m      3\u001b[39m \u001b[38;5;28mprint\u001b[39m(overlaps.shape)\n\u001b[32m      4\u001b[39m \u001b[38;5;28mprint\u001b[39m(overlaps)\n\u001b[32m----> \u001b[39m\u001b[32m6\u001b[39m overlaps = dq.braket(res.final_state, psi0)\n\u001b[32m      8\u001b[39m \u001b[38;5;28mprint\u001b[39m(overlaps.shape)\n\u001b[32m      9\u001b[39m \u001b[38;5;28mprint\u001b[39m(overlaps)\n",
      "\u001b[36mFile \u001b[39m\u001b[32m/opt/miniconda3/envs/qontrol_dev/lib/python3.13/site-packages/dynamiqs/utils/general.py:903\u001b[39m, in \u001b[36mbraket\u001b[39m\u001b[34m(x, y)\u001b[39m\n\u001b[32m    901\u001b[39m x = asqarray(x)\n\u001b[32m    902\u001b[39m y = asqarray(y)\n\u001b[32m--> \u001b[39m\u001b[32m903\u001b[39m check_shape(x, \u001b[33m'\u001b[39m\u001b[33mx\u001b[39m\u001b[33m'\u001b[39m, \u001b[33m'\u001b[39m\u001b[33m(..., n, 1)\u001b[39m\u001b[33m'\u001b[39m)\n\u001b[32m    904\u001b[39m check_shape(y, \u001b[33m'\u001b[39m\u001b[33my\u001b[39m\u001b[33m'\u001b[39m, \u001b[33m'\u001b[39m\u001b[33m(..., n, 1)\u001b[39m\u001b[33m'\u001b[39m)\n\u001b[32m    906\u001b[39m \u001b[38;5;28;01mreturn\u001b[39;00m (dag(x) @ y).squeeze((-\u001b[32m1\u001b[39m, -\u001b[32m2\u001b[39m))\n",
      "\u001b[36mFile \u001b[39m\u001b[32m/opt/miniconda3/envs/qontrol_dev/lib/python3.13/site-packages/dynamiqs/_checks.py:64\u001b[39m, in \u001b[36mcheck_shape\u001b[39m\u001b[34m(x, argname, subs, *shapes)\u001b[39m\n\u001b[32m     61\u001b[39m     \u001b[38;5;28;01mfor\u001b[39;00m k, v \u001b[38;5;129;01min\u001b[39;00m subs.items():\n\u001b[32m     62\u001b[39m         shapes_str = shapes_str.replace(k, v)\n\u001b[32m---> \u001b[39m\u001b[32m64\u001b[39m \u001b[38;5;28;01mraise\u001b[39;00m \u001b[38;5;167;01mValueError\u001b[39;00m(\n\u001b[32m     65\u001b[39m     \u001b[33mf\u001b[39m\u001b[33m'\u001b[39m\u001b[33mArgument `\u001b[39m\u001b[38;5;132;01m{\u001b[39;00margname\u001b[38;5;132;01m}\u001b[39;00m\u001b[33m` must have shape \u001b[39m\u001b[38;5;132;01m{\u001b[39;00mshapes_str\u001b[38;5;132;01m}\u001b[39;00m\u001b[33m, but has shape\u001b[39m\u001b[33m'\u001b[39m\n\u001b[32m     66\u001b[39m     \u001b[33mf\u001b[39m\u001b[33m'\u001b[39m\u001b[33m \u001b[39m\u001b[38;5;132;01m{\u001b[39;00margname\u001b[38;5;132;01m}\u001b[39;00m\u001b[33m.shape=\u001b[39m\u001b[38;5;132;01m{\u001b[39;00mx.shape\u001b[38;5;132;01m}\u001b[39;00m\u001b[33m.\u001b[39m\u001b[33m'\u001b[39m\n\u001b[32m     67\u001b[39m )\n",
      "\u001b[31mValueError\u001b[39m: Argument `x` must have shape (..., n, 1), but has shape x.shape=(2, 2, 2)."
     ]
    }
   ],
   "source": [
    "overlaps = (res.final_state.dag() @ psi0).trace()\n",
    "\n",
    "print(overlaps.shape)\n",
    "print(overlaps)\n",
    "\n",
    "overlaps = dq.braket(res.final_state, psi0)\n",
    "\n",
    "print(overlaps.shape)\n",
    "print(overlaps)"
   ]
  },
  {
   "cell_type": "code",
   "execution_count": null,
   "id": "e8890ea1",
   "metadata": {},
   "outputs": [],
   "source": []
  }
 ],
 "metadata": {
  "kernelspec": {
   "display_name": "Python 3 (ipykernel)",
   "language": "python",
   "name": "python3"
  },
  "language_info": {
   "codemirror_mode": {
    "name": "ipython",
    "version": 3
   },
   "file_extension": ".py",
   "mimetype": "text/x-python",
   "name": "python",
   "nbconvert_exporter": "python",
   "pygments_lexer": "ipython3",
   "version": "3.13.5"
  }
 },
 "nbformat": 4,
 "nbformat_minor": 5
}
